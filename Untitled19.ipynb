{
  "nbformat": 4,
  "nbformat_minor": 0,
  "metadata": {
    "colab": {
      "name": "Untitled19.ipynb",
      "provenance": []
    },
    "kernelspec": {
      "name": "python3",
      "display_name": "Python 3"
    },
    "accelerator": "GPU"
  },
  "cells": [
    {
      "cell_type": "code",
      "metadata": {
        "id": "sUnaGJYMUT7V",
        "colab_type": "code",
        "colab": {}
      },
      "source": [
        "from keras.models import Sequential\n",
        "from keras.layers import Dense\n",
        "from keras.layers import Convolution2D\n",
        "from keras.layers import MaxPooling2D\n",
        "from keras.layers import Flatten"
      ],
      "execution_count": 0,
      "outputs": []
    },
    {
      "cell_type": "code",
      "metadata": {
        "id": "K023-7MOU8kI",
        "colab_type": "code",
        "colab": {}
      },
      "source": [
        "model = Sequential()"
      ],
      "execution_count": 0,
      "outputs": []
    },
    {
      "cell_type": "code",
      "metadata": {
        "id": "RpNSDIQ_VC_q",
        "colab_type": "code",
        "colab": {}
      },
      "source": [
        "from keras.preprocessing.image import ImageDataGenerator\n",
        "train_datagen = ImageDataGenerator(rescale = 1./255, shear_range = 0.2,zoom_range =  0.2,horizontal_flip = True)\n",
        "test_datagen =  ImageDataGenerator(rescale = 1./255)"
      ],
      "execution_count": 0,
      "outputs": []
    },
    {
      "cell_type": "code",
      "metadata": {
        "id": "NRN_PFvcVMEi",
        "colab_type": "code",
        "colab": {
          "base_uri": "https://localhost:8080/",
          "height": 51
        },
        "outputId": "4a989230-b4fe-4d5c-caec-9ffde9bfb7e3"
      },
      "source": [
        "x_train = train_datagen.flow_from_directory(\"drive/My Drive/data/train_data\",target_size = (128,128),batch_size = 32 ,  class_mode  = \"categorical\")\n",
        "x_test  = test_datagen.flow_from_directory(\"drive/My Drive/data/test_data\",target_size = (128,128),batch_size = 32 ,  class_mode  = \"categorical\")"
      ],
      "execution_count": 34,
      "outputs": [
        {
          "output_type": "stream",
          "text": [
            "Found 423 images belonging to 5 classes.\n",
            "Found 171 images belonging to 5 classes.\n"
          ],
          "name": "stdout"
        }
      ]
    },
    {
      "cell_type": "code",
      "metadata": {
        "id": "so_M0v3PXEXf",
        "colab_type": "code",
        "colab": {
          "base_uri": "https://localhost:8080/",
          "height": 71
        },
        "outputId": "80abb28d-2830-48ea-9c8b-2b274fa12974"
      },
      "source": [
        "model.add(Convolution2D(32,3,3,input_shape=(128,128,3),activation = 'relu'))"
      ],
      "execution_count": 35,
      "outputs": [
        {
          "output_type": "stream",
          "text": [
            "/usr/local/lib/python3.6/dist-packages/ipykernel_launcher.py:1: UserWarning: Update your `Conv2D` call to the Keras 2 API: `Conv2D(32, (3, 3), input_shape=(128, 128,..., activation=\"relu\")`\n",
            "  \"\"\"Entry point for launching an IPython kernel.\n"
          ],
          "name": "stderr"
        }
      ]
    },
    {
      "cell_type": "code",
      "metadata": {
        "id": "4rUgg9znXJr5",
        "colab_type": "code",
        "colab": {}
      },
      "source": [
        "model.add(MaxPooling2D(pool_size = (2,2)))"
      ],
      "execution_count": 0,
      "outputs": []
    },
    {
      "cell_type": "code",
      "metadata": {
        "id": "smi-eC5NXQaO",
        "colab_type": "code",
        "colab": {}
      },
      "source": [
        "model.add(Flatten())"
      ],
      "execution_count": 0,
      "outputs": []
    },
    {
      "cell_type": "code",
      "metadata": {
        "id": "EtcKlLMvXUgh",
        "colab_type": "code",
        "colab": {
          "base_uri": "https://localhost:8080/",
          "height": 71
        },
        "outputId": "3292849c-9018-490b-cea5-e99dc1baa888"
      },
      "source": [
        "model.add(Dense(init = \"uniform\",activation='relu',units=300))"
      ],
      "execution_count": 38,
      "outputs": [
        {
          "output_type": "stream",
          "text": [
            "/usr/local/lib/python3.6/dist-packages/ipykernel_launcher.py:1: UserWarning: Update your `Dense` call to the Keras 2 API: `Dense(activation=\"relu\", units=300, kernel_initializer=\"uniform\")`\n",
            "  \"\"\"Entry point for launching an IPython kernel.\n"
          ],
          "name": "stderr"
        }
      ]
    },
    {
      "cell_type": "code",
      "metadata": {
        "id": "oGrIz7pVXdao",
        "colab_type": "code",
        "colab": {
          "base_uri": "https://localhost:8080/",
          "height": 71
        },
        "outputId": "b820e7ae-3235-4133-90d9-79e6f8c0c96c"
      },
      "source": [
        "model.add(Dense(init = \"uniform\",activation = \"softmax\",units = 5))"
      ],
      "execution_count": 39,
      "outputs": [
        {
          "output_type": "stream",
          "text": [
            "/usr/local/lib/python3.6/dist-packages/ipykernel_launcher.py:1: UserWarning: Update your `Dense` call to the Keras 2 API: `Dense(activation=\"softmax\", units=5, kernel_initializer=\"uniform\")`\n",
            "  \"\"\"Entry point for launching an IPython kernel.\n"
          ],
          "name": "stderr"
        }
      ]
    },
    {
      "cell_type": "code",
      "metadata": {
        "id": "bwOPq6L5Xm1d",
        "colab_type": "code",
        "colab": {}
      },
      "source": [
        "model.compile(loss = \"binary_crossentropy\",optimizer = \"adam\",metrics = [\"accuracy\"])"
      ],
      "execution_count": 0,
      "outputs": []
    },
    {
      "cell_type": "code",
      "metadata": {
        "id": "g741GA1maNqR",
        "colab_type": "code",
        "colab": {
          "base_uri": "https://localhost:8080/",
          "height": 394
        },
        "outputId": "f434c85d-4896-43fa-f78c-36f9ed0dc644"
      },
      "source": [
        "model.fit_generator(x_train,steps_per_epoch = 250,epochs=10,validation_data = x_test,validation_steps = 63)"
      ],
      "execution_count": 42,
      "outputs": [
        {
          "output_type": "stream",
          "text": [
            "Epoch 1/10\n",
            "250/250 [==============================] - 228s 913ms/step - loss: 0.2790 - accuracy: 0.8739 - val_loss: 0.4507 - val_accuracy: 0.8087\n",
            "Epoch 2/10\n",
            "250/250 [==============================] - 228s 913ms/step - loss: 0.1891 - accuracy: 0.9199 - val_loss: 0.4372 - val_accuracy: 0.7951\n",
            "Epoch 3/10\n",
            "250/250 [==============================] - 227s 906ms/step - loss: 0.1413 - accuracy: 0.9416 - val_loss: 0.9714 - val_accuracy: 0.7782\n",
            "Epoch 4/10\n",
            "250/250 [==============================] - 226s 902ms/step - loss: 0.1072 - accuracy: 0.9551 - val_loss: 0.6872 - val_accuracy: 0.7871\n",
            "Epoch 5/10\n",
            "250/250 [==============================] - 226s 904ms/step - loss: 0.0994 - accuracy: 0.9568 - val_loss: 0.5297 - val_accuracy: 0.7891\n",
            "Epoch 6/10\n",
            "250/250 [==============================] - 225s 901ms/step - loss: 0.0801 - accuracy: 0.9640 - val_loss: 1.3759 - val_accuracy: 0.7863\n",
            "Epoch 7/10\n",
            "250/250 [==============================] - 224s 897ms/step - loss: 0.0829 - accuracy: 0.9634 - val_loss: 0.5885 - val_accuracy: 0.7842\n",
            "Epoch 8/10\n",
            "250/250 [==============================] - 221s 885ms/step - loss: 0.0617 - accuracy: 0.9698 - val_loss: 0.7478 - val_accuracy: 0.7852\n",
            "Epoch 9/10\n",
            "250/250 [==============================] - 229s 915ms/step - loss: 0.0573 - accuracy: 0.9717 - val_loss: 1.4701 - val_accuracy: 0.7865\n",
            "Epoch 10/10\n",
            "250/250 [==============================] - 227s 910ms/step - loss: 0.0596 - accuracy: 0.9727 - val_loss: 0.5699 - val_accuracy: 0.7793\n"
          ],
          "name": "stdout"
        },
        {
          "output_type": "execute_result",
          "data": {
            "text/plain": [
              "<keras.callbacks.callbacks.History at 0x7fd8d01c7630>"
            ]
          },
          "metadata": {
            "tags": []
          },
          "execution_count": 42
        }
      ]
    }
  ]
}